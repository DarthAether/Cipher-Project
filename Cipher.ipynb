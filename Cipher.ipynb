{
  "nbformat": 4,
  "nbformat_minor": 0,
  "metadata": {
    "colab": {
      "provenance": [],
      "authorship_tag": "ABX9TyNRQZRO+UoJHH8Cwb/x56mj",
      "include_colab_link": true
    },
    "kernelspec": {
      "name": "python3",
      "display_name": "Python 3"
    },
    "language_info": {
      "name": "python"
    }
  },
  "cells": [
    {
      "cell_type": "markdown",
      "metadata": {
        "id": "view-in-github",
        "colab_type": "text"
      },
      "source": [
        "<a href=\"https://colab.research.google.com/github/DarthAether/Cipher-Project/blob/main/Cipher.ipynb\" target=\"_parent\"><img src=\"https://colab.research.google.com/assets/colab-badge.svg\" alt=\"Open In Colab\"/></a>"
      ]
    },
    {
      "cell_type": "code",
      "execution_count": 1,
      "metadata": {
        "colab": {
          "base_uri": "https://localhost:8080/"
        },
        "id": "UONuYaANxZE5",
        "outputId": "a700f99b-2516-4938-d0de-cd15a6ae65b7"
      },
      "outputs": [
        {
          "output_type": "stream",
          "name": "stdout",
          "text": [
            "Enter your text: Vijay is someone at y\n",
            "\n",
            "Enter your key: Damianfraus\n",
            "Which Function Do you choose:\n",
            " 1)Encryption type 'e'\n",
            " 2)Decryption type 'd'\n",
            "e\n",
            "Encrypted text: yiviy vx jogwrnq it l\n"
          ]
        }
      ],
      "source": [
        "text = input(\"Enter your text: \")\n",
        "custom_key = input(\"\\nEnter your key: \")\n",
        "\n",
        "def vigenere(message, key, direction = 1):\n",
        "  key_index = 0\n",
        "  alphabet = 'abcdefghijklmnopqrstuvwxyz'\n",
        "  final_message = ''\n",
        "  for char in message.lower():\n",
        "    key = key.lower()\n",
        "    if not char.isalpha():\n",
        "      final_message += char\n",
        "    else:\n",
        "      key_char = key[key_index % len(key)]\n",
        "      key_index += 1\n",
        "      offset = alphabet.index(key_char)\n",
        "      index = alphabet.find(char)\n",
        "      new_index = (index + offset*direction) % len(alphabet)\n",
        "      final_message += alphabet[new_index]\n",
        "  return final_message\n",
        "\n",
        "def encrypt(text, custom_key):\n",
        "  return vigenere(text,custom_key)\n",
        "def decrypt(text, custom_key):\n",
        "  return vigenere(text,custom_key,-1)\n",
        "x = input(\"Which Function Do you choose:\\n 1)Encryption type 'e'\\n 2)Decryption type 'd'\\n\")\n",
        "if x == 'e':\n",
        "  print(f'Encrypted text: {encrypt(text,custom_key)}')\n",
        "elif x == 'd':\n",
        "  print(f'Decrypted text: {decrypt(text,custom_key)}')"
      ]
    },
    {
      "cell_type": "code",
      "source": [
        "text = input(\"Enter your text for decryption: \")\n",
        "custom_key = input(\"\\nEnter your key: \")\n",
        "print(f'Decrypted text: {decrypt(text,custom_key)}')"
      ],
      "metadata": {
        "colab": {
          "base_uri": "https://localhost:8080/"
        },
        "id": "0PwcMzssyJH0",
        "outputId": "0dff7b5e-fe20-42f4-94b7-464f9bf09ec1"
      },
      "execution_count": 2,
      "outputs": [
        {
          "output_type": "stream",
          "name": "stdout",
          "text": [
            "Enter your text for decryption: yiviy vx jogwrnq it l\n",
            "\n",
            "Enter your key: Damianfraus\n",
            "Decrypted text: vijay is someone at y\n"
          ]
        }
      ]
    }
  ]
}